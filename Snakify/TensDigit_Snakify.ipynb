{
 "cells": [
  {
   "cell_type": "markdown",
   "id": "elect-entrepreneur",
   "metadata": {},
   "source": [
    "# Tens Digit"
   ]
  },
  {
   "cell_type": "markdown",
   "id": "accredited-smart",
   "metadata": {},
   "source": [
    "Given an integer. Print its tens digit.\n",
    "\n",
    "Input: 73  Correct Answer: 7\n",
    "\n",
    "Input: 1234  Correct Answer: 3\n",
    "\n",
    "Input: 1  Correct Answer: 0"
   ]
  },
  {
   "cell_type": "markdown",
   "id": "impressed-recommendation",
   "metadata": {},
   "source": [
    "## Solución:"
   ]
  },
  {
   "cell_type": "code",
   "execution_count": 1,
   "id": "continued-justice",
   "metadata": {},
   "outputs": [
    {
     "name": "stdout",
     "output_type": "stream",
     "text": [
      "154\n",
      "5\n"
     ]
    }
   ],
   "source": [
    "a= int(input())\n",
    "print (int((a/10)%10))"
   ]
  },
  {
   "cell_type": "code",
   "execution_count": 2,
   "id": "lonely-breast",
   "metadata": {},
   "outputs": [
    {
     "name": "stdout",
     "output_type": "stream",
     "text": [
      "1\n",
      "0\n"
     ]
    }
   ],
   "source": [
    "a= int(input())\n",
    "print (int((a/10)%10))"
   ]
  },
  {
   "cell_type": "code",
   "execution_count": 3,
   "id": "recorded-colors",
   "metadata": {},
   "outputs": [
    {
     "name": "stdout",
     "output_type": "stream",
     "text": [
      "1346\n",
      "4\n"
     ]
    }
   ],
   "source": [
    "a= int(input())\n",
    "print (int((a/10)%10))"
   ]
  },
  {
   "cell_type": "code",
   "execution_count": null,
   "id": "express-candle",
   "metadata": {},
   "outputs": [],
   "source": []
  }
 ],
 "metadata": {
  "kernelspec": {
   "display_name": "Python 3",
   "language": "python",
   "name": "python3"
  },
  "language_info": {
   "codemirror_mode": {
    "name": "ipython",
    "version": 3
   },
   "file_extension": ".py",
   "mimetype": "text/x-python",
   "name": "python",
   "nbconvert_exporter": "python",
   "pygments_lexer": "ipython3",
   "version": "3.9.2"
  }
 },
 "nbformat": 4,
 "nbformat_minor": 5
}
