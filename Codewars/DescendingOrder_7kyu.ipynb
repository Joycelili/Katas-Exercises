{
 "cells": [
  {
   "cell_type": "markdown",
   "id": "electronic-modeling",
   "metadata": {},
   "source": [
    "# Descending Order"
   ]
  },
  {
   "cell_type": "markdown",
   "id": "unable-disaster",
   "metadata": {},
   "source": [
    "Your task is to make a function that can take any non-negative integer as an argument and return it with its digits in descending order. Essentially, rearrange the digits to create the highest possible number.\n",
    "\n",
    "Examples:\n",
    "Input: 42145 Output: 54421\n",
    "\n",
    "Input: 145263 Output: 654321\n",
    "\n",
    "Input: 123456789 Output: 987654321"
   ]
  },
  {
   "cell_type": "markdown",
   "id": "approximate-employer",
   "metadata": {},
   "source": [
    "## Solución:"
   ]
  },
  {
   "cell_type": "markdown",
   "id": "opened-jumping",
   "metadata": {},
   "source": [
    "Para esta solución convertí primero el int en un str para poder ordenarlo con sorted."
   ]
  },
  {
   "cell_type": "code",
   "execution_count": 2,
   "id": "medium-difference",
   "metadata": {},
   "outputs": [
    {
     "name": "stdout",
     "output_type": "stream",
     "text": [
      "<class 'str'>\n"
     ]
    }
   ],
   "source": [
    "def descending_order(num):\n",
    "    list=str(num)\n",
    "    print (type(list))\n",
    "descending_order(1253546789)  "
   ]
  },
  {
   "cell_type": "markdown",
   "id": "federal-spell",
   "metadata": {},
   "source": [
    "Esta función solo se puede utilizar con iterables y con el siguiente formato:\n",
    "\n",
    "sorted(iterable, key=None, reverse=False)\n",
    "\n",
    "Donde el iterable es una secuencia (string, tupla, lista), o una colección (set, dictionario, set) u otro iterador.\n",
    "\n",
    "Key sería una función que serviría como clave para el sorted (opcional)\n",
    "\n",
    "Reverse sería True descendente y False sería ascendente (opcional)"
   ]
  },
  {
   "cell_type": "code",
   "execution_count": 3,
   "id": "approved-oracle",
   "metadata": {},
   "outputs": [
    {
     "name": "stdout",
     "output_type": "stream",
     "text": [
      "['9', '8', '7', '6', '5', '5', '4', '3', '2', '1']\n"
     ]
    }
   ],
   "source": [
    " def descending_order(num):\n",
    "    list=str(num)\n",
    "    sortar= sorted(list,reverse=True)\n",
    "    print (sortar)\n",
    "descending_order(1253546789)"
   ]
  },
  {
   "cell_type": "markdown",
   "id": "proved-hudson",
   "metadata": {},
   "source": [
    "Esto nos imprime una lista de str separados por lo cual procedemos a realizar un join"
   ]
  },
  {
   "cell_type": "code",
   "execution_count": 4,
   "id": "vital-breakdown",
   "metadata": {},
   "outputs": [
    {
     "name": "stdout",
     "output_type": "stream",
     "text": [
      "9876554321\n"
     ]
    }
   ],
   "source": [
    " def descending_order(num):\n",
    "    list=str(num)\n",
    "    sortar= sorted(list,reverse=True)\n",
    "    joinar=''.join(sortar)\n",
    "    print (joinar)\n",
    "   \n",
    "descending_order(1253546789)"
   ]
  },
  {
   "cell_type": "markdown",
   "id": "composed-somerset",
   "metadata": {},
   "source": [
    "Por ultimo convertimos de nuevo la cadena en int"
   ]
  },
  {
   "cell_type": "code",
   "execution_count": 5,
   "id": "wireless-stanford",
   "metadata": {},
   "outputs": [],
   "source": [
    "def descending_order(num):\n",
    "   # Bust a move right here\n",
    "    list=str(num)\n",
    "    sortar= sorted(list,reverse=True)\n",
    "    joinar=''.join(sortar)\n",
    "    numb= int(joinar)\n",
    "    return (numb)"
   ]
  },
  {
   "cell_type": "code",
   "execution_count": 6,
   "id": "secret-general",
   "metadata": {},
   "outputs": [
    {
     "data": {
      "text/plain": [
       "9876554321"
      ]
     },
     "execution_count": 6,
     "metadata": {},
     "output_type": "execute_result"
    }
   ],
   "source": [
    "descending_order(1253546789)"
   ]
  },
  {
   "cell_type": "markdown",
   "id": "unsigned-certification",
   "metadata": {},
   "source": [
    "### Ya con esto pasaría el test. los siguientes ejercicios los hice para practicar mi refactorización y mis funciones lambda"
   ]
  },
  {
   "cell_type": "code",
   "execution_count": 7,
   "id": "aerial-customer",
   "metadata": {},
   "outputs": [],
   "source": [
    "def descending_order(num):\n",
    "    return (int(''.join(sorted(str(num),reverse=True))))"
   ]
  },
  {
   "cell_type": "code",
   "execution_count": 8,
   "id": "smart-synthesis",
   "metadata": {},
   "outputs": [
    {
     "data": {
      "text/plain": [
       "976554321"
      ]
     },
     "execution_count": 8,
     "metadata": {},
     "output_type": "execute_result"
    }
   ],
   "source": [
    "descending_order(123457569)"
   ]
  },
  {
   "cell_type": "markdown",
   "id": "adaptive-belle",
   "metadata": {},
   "source": [
    "### Función lambda"
   ]
  },
  {
   "cell_type": "code",
   "execution_count": 9,
   "id": "earned-chamber",
   "metadata": {},
   "outputs": [],
   "source": [
    "descending_order = lambda numb:(int(''.join(sorted(str(numb),reverse=True))))    "
   ]
  },
  {
   "cell_type": "code",
   "execution_count": 10,
   "id": "brutal-interstate",
   "metadata": {},
   "outputs": [
    {
     "data": {
      "text/plain": [
       "9886543211"
      ]
     },
     "execution_count": 10,
     "metadata": {},
     "output_type": "execute_result"
    }
   ],
   "source": [
    "descending_order(1234586189)"
   ]
  },
  {
   "cell_type": "markdown",
   "id": "informal-biography",
   "metadata": {},
   "source": [
    "# Referencias:"
   ]
  },
  {
   "cell_type": "markdown",
   "id": "prepared-synthesis",
   "metadata": {},
   "source": [
    "https://www.programiz.com/python-programming/methods/built-in/sorted\n",
    "\n",
    "https://www.w3schools.com/python/ref_func_sorted.asp"
   ]
  }
 ],
 "metadata": {
  "kernelspec": {
   "display_name": "Python 3",
   "language": "python",
   "name": "python3"
  },
  "language_info": {
   "codemirror_mode": {
    "name": "ipython",
    "version": 3
   },
   "file_extension": ".py",
   "mimetype": "text/x-python",
   "name": "python",
   "nbconvert_exporter": "python",
   "pygments_lexer": "ipython3",
   "version": "3.9.2"
  }
 },
 "nbformat": 4,
 "nbformat_minor": 5
}
